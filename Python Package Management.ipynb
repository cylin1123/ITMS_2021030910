{
 "cells": [
  {
   "cell_type": "markdown",
   "metadata": {},
   "source": [
    "#### PyPI(Python Package Index)"
   ]
  },
  {
   "cell_type": "markdown",
   "metadata": {},
   "source": [
    "https://pypi.org/"
   ]
  },
  {
   "cell_type": "markdown",
   "metadata": {},
   "source": [
    "#### 安裝套件"
   ]
  },
  {
   "cell_type": "markdown",
   "metadata": {},
   "source": [
    "安裝此套件(Package)的最新版本\n",
    "\n",
    "* pip install packagename\n",
    "* pip3 install packagename\n",
    "\n",
    "* Example: pip install beautifulsoup4\n",
    "\n",
    "指定套件版本\n",
    "\n",
    "* pip install packagename==x.x.x\n",
    "* pip3 install packagename==x.x.x\n",
    "\n",
    "* Example1: pip install beautifulsoup4==4.8.0\n",
    "\n",
    "PS. 安裝版號為4.8開頭的最新版: *\n",
    "* Example2: pip install beautifulsoup4==4.8.*  "
   ]
  },
  {
   "cell_type": "markdown",
   "metadata": {},
   "source": [
    "#### 升級套件"
   ]
  },
  {
   "cell_type": "markdown",
   "metadata": {},
   "source": [
    "* pip install --upgrade packagename\n",
    "* pip3 install --upgrade packagename"
   ]
  },
  {
   "cell_type": "markdown",
   "metadata": {},
   "source": [
    "#### 列出套件清單"
   ]
  },
  {
   "cell_type": "markdown",
   "metadata": {},
   "source": [
    "* pip list\n",
    "* pip3 list"
   ]
  },
  {
   "cell_type": "markdown",
   "metadata": {},
   "source": [
    "#### 移除套件"
   ]
  },
  {
   "cell_type": "markdown",
   "metadata": {},
   "source": [
    "* pip uninstall packagename\n",
    "* pip3 uninstall packagename"
   ]
  },
  {
   "cell_type": "markdown",
   "metadata": {},
   "source": [
    "#### 離線安裝套件\n",
    "\n",
    "* pip uninstall packagename.whl\n",
    "* pip3 uninstall packagename.whl"
   ]
  },
  {
   "cell_type": "code",
   "execution_count": null,
   "metadata": {},
   "outputs": [],
   "source": []
  }
 ],
 "metadata": {
  "kernelspec": {
   "display_name": "Python 3",
   "language": "python",
   "name": "python3"
  },
  "language_info": {
   "codemirror_mode": {
    "name": "ipython",
    "version": 3
   },
   "file_extension": ".py",
   "mimetype": "text/x-python",
   "name": "python",
   "nbconvert_exporter": "python",
   "pygments_lexer": "ipython3",
   "version": "3.8.5"
  }
 },
 "nbformat": 4,
 "nbformat_minor": 4
}
