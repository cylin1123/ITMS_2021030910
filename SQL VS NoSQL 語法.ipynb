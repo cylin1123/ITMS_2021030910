{
 "cells": [
  {
   "cell_type": "code",
   "execution_count": 1,
   "metadata": {},
   "outputs": [],
   "source": [
    "# SQL 新增資料\n",
    "\n",
    "\n",
    "# INSERT INTO book (`ISBN`, `title`, `author`)\n",
    "#  VALUES (\n",
    "#  '9780992461256',\n",
    "#  'Full Stack JavaScript',\n",
    "#  'Colin Ihrig & Adam Bretz'\n",
    "# );"
   ]
  },
  {
   "cell_type": "code",
   "execution_count": null,
   "metadata": {},
   "outputs": [],
   "source": [
    "# NoSQL 新增資料\n",
    "\n",
    "# db.book.insert({\n",
    "#  ISBN: \"9780992461256\",\n",
    "#  title: \"Full Stack JavaScript\",\n",
    "#  author: \"Colin Ihrig & Adam Bretz\"\n",
    "# });"
   ]
  },
  {
   "cell_type": "code",
   "execution_count": null,
   "metadata": {},
   "outputs": [],
   "source": [
    "# SQL 更新資料\n",
    "\n",
    "# UPDATE book\n",
    "# SET price = 19.99\n",
    "# WHERE ISBN = '9780992461256'"
   ]
  },
  {
   "cell_type": "code",
   "execution_count": null,
   "metadata": {},
   "outputs": [],
   "source": [
    "# NoSQL 更新資料\n",
    "\n",
    "# db.book.update(\n",
    "#   { ISBN: '9780992461256' },\n",
    "#   { $set: { price: 19.99 } }\n",
    "# );"
   ]
  },
  {
   "cell_type": "code",
   "execution_count": null,
   "metadata": {},
   "outputs": [],
   "source": [
    "# SQL 查詢資料\n",
    "\n",
    "# SELECT title FROM book\n",
    "# WHERE price > 10;"
   ]
  },
  {
   "cell_type": "code",
   "execution_count": null,
   "metadata": {},
   "outputs": [],
   "source": [
    "# NoSQL 查詢資料\n",
    "\n",
    "# db.book.find(\n",
    "#   { price: { &gt;: 10 } },\n",
    "#   { _id: 0, title: 1 }\n",
    "# );"
   ]
  },
  {
   "cell_type": "code",
   "execution_count": null,
   "metadata": {},
   "outputs": [],
   "source": [
    "# SQL 刪除資料\n",
    "\n",
    "# DELETE FROM book\n",
    "# WHERE publisher_id = 'SP001';"
   ]
  },
  {
   "cell_type": "code",
   "execution_count": null,
   "metadata": {},
   "outputs": [],
   "source": [
    "# NoSQL 刪除資料\n",
    "\n",
    "# db.book.remove({\n",
    "#   \"publisher.name\": \"SitePoint\"\n",
    "# });"
   ]
  },
  {
   "cell_type": "code",
   "execution_count": null,
   "metadata": {},
   "outputs": [],
   "source": []
  },
  {
   "cell_type": "code",
   "execution_count": null,
   "metadata": {},
   "outputs": [],
   "source": []
  },
  {
   "cell_type": "code",
   "execution_count": null,
   "metadata": {},
   "outputs": [],
   "source": []
  },
  {
   "cell_type": "code",
   "execution_count": null,
   "metadata": {},
   "outputs": [],
   "source": []
  }
 ],
 "metadata": {
  "kernelspec": {
   "display_name": "Python 3",
   "language": "python",
   "name": "python3"
  },
  "language_info": {
   "codemirror_mode": {
    "name": "ipython",
    "version": 3
   },
   "file_extension": ".py",
   "mimetype": "text/x-python",
   "name": "python",
   "nbconvert_exporter": "python",
   "pygments_lexer": "ipython3",
   "version": "3.5.4"
  }
 },
 "nbformat": 4,
 "nbformat_minor": 2
}
